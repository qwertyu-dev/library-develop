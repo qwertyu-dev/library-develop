{
 "cells": [
  {
   "cell_type": "code",
   "execution_count": 28,
   "metadata": {},
   "outputs": [],
   "source": [
    "from pathlib import Path\n",
    "from datetime import datetime\n",
    "\n",
    "def is_bank_business_day(\n",
    "    date: str | datetime,\n",
    "    calendar_file_path: str | Path,\n",
    ") -> bool | None:\n",
    "    \"\"\"\n",
    "    銀行営業日判定関数\n",
    "    \n",
    "    Args:\n",
    "        date (str | datetime): 判定対象の日付（文字列またはdatetime型）\n",
    "        calendar_file_path (str): 銀行カレンダーファイルのパス\n",
    "        \n",
    "    Returns:\n",
    "        bool: 銀行営業日の場合はTrue、銀行休業日の場合はFalse\n",
    "        None: 判定不能の場合\n",
    "        \n",
    "    Raises:\n",
    "        FileNotFoundError: 銀行カレンダーファイルが存在しない場合\n",
    "        ValueError: 日付のフォーマットが正しくない場合\n",
    "        TypeError: 引数の型が正しくない場合\n",
    "    \"\"\"\n",
    "    # 銀行カレンダーファイルを読み込む\n",
    "    calendar_file_path = Path(calendar_file_path)\n",
    "    if not calendar_file_path.exists():\n",
    "        raise FileNotFoundError(f\"銀行カレンダーファイルが見つかりません: {calendar_file_path}\")\n",
    "\n",
    "    # 入れ物\n",
    "    closed_days = set()\n",
    "    operation_days = set()\n",
    "\n",
    "    # カレンダーファイル処理\n",
    "    with calendar_file_path.open('r') as file:\n",
    "        for line in file:\n",
    "            striped_line = line.strip()\n",
    "            if striped_line:\n",
    "                key, value = striped_line.split('=', maxsplit=1)\n",
    "                if key == 'cl':\n",
    "                    closed_days.add(value)\n",
    "                elif key == 'op':\n",
    "                    operation_days.add(value)\n",
    "                else:\n",
    "                    raise ValueError(f\"無効なフォーマット: {line}\")\n",
    "\n",
    "    # 日付の方をチェックし必要であれば変換する\n",
    "    if isinstance(date, datetime):\n",
    "        date_string = date.strftime('%Y/%m/%d')\n",
    "    elif isinstance(date, str):\n",
    "        try:\n",
    "            # 日付に変換できる文字列を判定\n",
    "            datetime.strptime(date, '%Y/%m/%d')\n",
    "            date_string = date\n",
    "        except ValueError:\n",
    "            raise ValueError(f'日付のフォーマットが正しくありません: {date}')\n",
    "    else:\n",
    "        raise TypeError(f\"日付は文字列もしくはdatetime型でなければなりません: {type(date)}\")\n",
    "\n",
    "    # 判定対象の日付が休業日リストに含まれている場合\n",
    "    if date_string in closed_days:\n",
    "        return False\n",
    "\n",
    "    if date_string in operation_days:\n",
    "        return True\n",
    "\n",
    "    # 判定不能の場合(カレンダーファイルに含まれていない日付を指定した場合を想定 )\n",
    "    return None"
   ]
  },
  {
   "cell_type": "code",
   "execution_count": 29,
   "metadata": {},
   "outputs": [
    {
     "name": "stdout",
     "output_type": "stream",
     "text": [
      "True\n",
      "True\n",
      "False\n"
     ]
    }
   ],
   "source": [
    "cal_file_path = '/developer/library_dev/project_1/src/share/receive/bank_cal.txt'\n",
    "print(is_bank_business_day('2024/01/30', cal_file_path))\n",
    "print(is_bank_business_day('2024/01/31', cal_file_path))\n",
    "print(is_bank_business_day('2024/02/03', cal_file_path))"
   ]
  },
  {
   "cell_type": "code",
   "execution_count": 31,
   "metadata": {},
   "outputs": [
    {
     "name": "stdout",
     "output_type": "stream",
     "text": [
      "None\n"
     ]
    }
   ],
   "source": [
    "print(is_bank_business_day('2050/01/30', cal_file_path))"
   ]
  },
  {
   "cell_type": "code",
   "execution_count": 32,
   "metadata": {},
   "outputs": [
    {
     "ename": "FileNotFoundError",
     "evalue": "銀行カレンダーファイルが見つかりません: /developer/library_dev/project_1/src/share/receive/bank_cal.txta",
     "output_type": "error",
     "traceback": [
      "\u001b[0;31m---------------------------------------------------------------------------\u001b[0m",
      "\u001b[0;31mFileNotFoundError\u001b[0m                         Traceback (most recent call last)",
      "Cell \u001b[0;32mIn[32], line 2\u001b[0m\n\u001b[1;32m      1\u001b[0m cal_file_path \u001b[38;5;241m=\u001b[39m \u001b[38;5;124m'\u001b[39m\u001b[38;5;124m/developer/library_dev/project_1/src/share/receive/bank_cal.txta\u001b[39m\u001b[38;5;124m'\u001b[39m\n\u001b[0;32m----> 2\u001b[0m \u001b[38;5;28mprint\u001b[39m(\u001b[43mis_bank_business_day\u001b[49m\u001b[43m(\u001b[49m\u001b[38;5;124;43m'\u001b[39;49m\u001b[38;5;124;43m2024/01/30\u001b[39;49m\u001b[38;5;124;43m'\u001b[39;49m\u001b[43m,\u001b[49m\u001b[43m \u001b[49m\u001b[43mcal_file_path\u001b[49m\u001b[43m)\u001b[49m)\n",
      "Cell \u001b[0;32mIn[28], line 27\u001b[0m, in \u001b[0;36mis_bank_business_day\u001b[0;34m(date, calendar_file_path)\u001b[0m\n\u001b[1;32m     25\u001b[0m calendar_file_path \u001b[38;5;241m=\u001b[39m Path(calendar_file_path)\n\u001b[1;32m     26\u001b[0m \u001b[38;5;28;01mif\u001b[39;00m \u001b[38;5;129;01mnot\u001b[39;00m calendar_file_path\u001b[38;5;241m.\u001b[39mexists():\n\u001b[0;32m---> 27\u001b[0m     \u001b[38;5;28;01mraise\u001b[39;00m \u001b[38;5;167;01mFileNotFoundError\u001b[39;00m(\u001b[38;5;124mf\u001b[39m\u001b[38;5;124m\"\u001b[39m\u001b[38;5;124m銀行カレンダーファイルが見つかりません: \u001b[39m\u001b[38;5;132;01m{\u001b[39;00mcalendar_file_path\u001b[38;5;132;01m}\u001b[39;00m\u001b[38;5;124m\"\u001b[39m)\n\u001b[1;32m     29\u001b[0m \u001b[38;5;66;03m# 入れ物\u001b[39;00m\n\u001b[1;32m     30\u001b[0m closed_days \u001b[38;5;241m=\u001b[39m \u001b[38;5;28mset\u001b[39m()\n",
      "\u001b[0;31mFileNotFoundError\u001b[0m: 銀行カレンダーファイルが見つかりません: /developer/library_dev/project_1/src/share/receive/bank_cal.txta"
     ]
    }
   ],
   "source": [
    "cal_file_path = '/developer/library_dev/project_1/src/share/receive/bank_cal.txta'\n",
    "print(is_bank_business_day('2024/01/30', cal_file_path))"
   ]
  },
  {
   "cell_type": "code",
   "execution_count": 33,
   "metadata": {},
   "outputs": [],
   "source": [
    "def is_bank_business_day(date: str | datetime, calendar_file_path: str | Path) -> bool | None:\n",
    "    \"\"\"\n",
    "    銀行営業日判定関数\n",
    "    JP1提供銀行カレンダーに基づき、指定日付が銀行営業日であるかの判定を行う\n",
    "\n",
    "    Args:\n",
    "        date (str | datetime): 判定対象の日付(文字列またはdatetime型)\n",
    "        calendar_file_path (str): 銀行カレンダーファイルのパス\n",
    "\n",
    "    Returns:\n",
    "        bool: 銀行営業日の場合はTrue、銀行休業日の場合はFalse\n",
    "        None: 判定不能の場合\n",
    "\n",
    "    Raises:\n",
    "        FileNotFoundError: 銀行カレンダーファイルが存在しない場合\n",
    "        ValueError: 日付のフォーマットが正しくない場合\n",
    "        TypeError: 引数の型が正しくない場合\n",
    "    \"\"\"\n",
    "    # 銀行カレンダーファイルを読み込む\n",
    "    calendar_file_path = Path(calendar_file_path)\n",
    "    try:\n",
    "        if not calendar_file_path.exists():\n",
    "            raise FileNotFoundError(f\"銀行カレンダーファイルが見つかりません: {calendar_file_path}\")\n",
    "    except FileNotFoundError as e:\n",
    "        log_msg(str(e))\n",
    "        raise\n",
    "\n",
    "    # 入れ物\n",
    "    closed_days = set()\n",
    "    operation_days = set()\n",
    "\n",
    "    # カレンダーファイル処理\n",
    "    try:\n",
    "        with calendar_file_path.open('r') as file:\n",
    "            for line in file:\n",
    "                striped_line = line.strip()\n",
    "                key, value = striped_line.split('=', maxsplit=1)\n",
    "                if key == 'cl':\n",
    "                    closed_days.add(value)\n",
    "                elif key == 'op':\n",
    "                    operation_days.add(value)\n",
    "                else:\n",
    "                    raise ValueError(f\"無効なフォーマット: {line}\")\n",
    "    except ValueError as e:\n",
    "        log_msg(str(e))\n",
    "        raise\n",
    "\n",
    "    # 日付の型をチェックし必要であれば変換する\n",
    "    try:\n",
    "        if isinstance(date, datetime):\n",
    "            date_string = date.strftime('%Y/%m/%d')\n",
    "        elif isinstance(date, str):\n",
    "            datetime.strptime(date, '%Y/%m/%d')\n",
    "            date_string = date\n",
    "        else:\n",
    "            raise TypeError(f\"日付は文字列もしくはdatetime型でなければなりません: {type(date)}\")\n",
    "    except (ValueError, TypeError) as e:\n",
    "        log_msg(str(e))\n",
    "        raise\n",
    "\n",
    "    # 判定対象の日付が休業日リストに含まれている場合\n",
    "    if date_string in closed_days:\n",
    "        return False\n",
    "    if date_string in operation_days:\n",
    "        return True\n",
    "\n",
    "    # 判定不能の場合(カレンダーファイルに含まれていない日付を指定した場合を想定)\n",
    "    return None"
   ]
  },
  {
   "cell_type": "code",
   "execution_count": 34,
   "metadata": {},
   "outputs": [
    {
     "name": "stdout",
     "output_type": "stream",
     "text": [
      "True\n",
      "True\n",
      "False\n"
     ]
    }
   ],
   "source": [
    "cal_file_path = '/developer/library_dev/project_1/src/share/receive/bank_cal.txt'\n",
    "print(is_bank_business_day('2024/01/30', cal_file_path))\n",
    "print(is_bank_business_day('2024/01/31', cal_file_path))\n",
    "print(is_bank_business_day('2024/02/03', cal_file_path))"
   ]
  },
  {
   "cell_type": "code",
   "execution_count": 37,
   "metadata": {},
   "outputs": [],
   "source": [
    "def load_calendar_file(calendar_file_path: str | Path) -> tuple[set[str], set[str]]:\n",
    "    \"\"\"\n",
    "    銀行カレンダーファイルを読み込み、休業日と営業日のセットを返す\n",
    "\n",
    "    Args:\n",
    "        calendar_file_path (str | Path): 銀行カレンダーファイルのパス\n",
    "\n",
    "    Returns:\n",
    "        tuple[set[str], set[str]]: 休業日と営業日のセット\n",
    "\n",
    "    Raises:\n",
    "        FileNotFoundError: 銀行カレンダーファイルが存在しない場合\n",
    "        ValueError: 無効なフォーマットの行がある場合\n",
    "    \"\"\"\n",
    "    calendar_file_path = Path(calendar_file_path)\n",
    "    if not calendar_file_path.exists():\n",
    "        raise FileNotFoundError(f\"銀行カレンダーファイルが見つかりません: {calendar_file_path}\")\n",
    "\n",
    "    closed_days = set()\n",
    "    operation_days = set()\n",
    "    with calendar_file_path.open('r') as file:\n",
    "        for line in file:\n",
    "            striped_line = line.strip()\n",
    "            key, value = striped_line.split('=', maxsplit=1)\n",
    "            if key == 'cl':\n",
    "                closed_days.add(value)\n",
    "            elif key == 'op':\n",
    "                operation_days.add(value)\n",
    "            else:\n",
    "                raise ValueError(f\"無効なフォーマット: {line}\")\n",
    "    return closed_days, operation_days\n",
    "\n",
    "\n",
    "def _convert_date_to_string(date: str | datetime) -> str:\n",
    "    \"\"\"\n",
    "    日付をYYYY/MM/DD形式の文字列に変換する\n",
    "\n",
    "    Args:\n",
    "        date (str | datetime): 変換する日付\n",
    "\n",
    "    Returns:\n",
    "        str: YYYY/MM/DD形式の日付文字列\n",
    "\n",
    "    Raises:\n",
    "        ValueError: 日付のフォーマットが正しくない場合\n",
    "        TypeError: 引数の型が正しくない場合\n",
    "    \"\"\"\n",
    "    if isinstance(date, datetime):\n",
    "        return date.strftime('%Y/%m/%d')\n",
    "    elif isinstance(date, str):\n",
    "        datetime.strptime(date, '%Y/%m/%d')\n",
    "        return date\n",
    "    else:\n",
    "        raise TypeError(f\"日付は文字列もしくはdatetime型でなければなりません: {type(date)}\")\n",
    "\n",
    "\n",
    "def is_bank_business_day(date: str | datetime, calendar_file_path: str | Path) -> bool | None:\n",
    "    \"\"\"\n",
    "    銀行営業日判定関数\n",
    "    JP1提供銀行カレンダーに基づき、指定日付が銀行営業日であるかの判定を行う\n",
    "\n",
    "    Args:\n",
    "        date (str | datetime): 判定対象の日付(文字列またはdatetime型)\n",
    "        calendar_file_path (str): 銀行カレンダーファイルのパス\n",
    "\n",
    "    Returns:\n",
    "        bool: 銀行営業日の場合はTrue、銀行休業日の場合はFalse\n",
    "        None: 判定不能の場合\n",
    "\n",
    "    Raises:\n",
    "        FileNotFoundError: 銀行カレンダーファイルが存在しない場合\n",
    "        ValueError: 日付のフォーマットが正しくない場合\n",
    "        TypeError: 引数の型が正しくない場合\n",
    "    \"\"\"\n",
    "    try:\n",
    "        closed_days, operation_days = load_calendar_file(calendar_file_path)\n",
    "    except (FileNotFoundError, ValueError) as e:\n",
    "        log_msg(str(e))\n",
    "        raise\n",
    "\n",
    "    try:\n",
    "        date_string = _convert_date_to_string(date)\n",
    "    except (ValueError, TypeError) as e:\n",
    "        log_msg(str(e))\n",
    "        raise\n",
    "\n",
    "    if date_string in closed_days:\n",
    "        return False\n",
    "    if date_string in operation_days:\n",
    "        return True\n",
    "    return None"
   ]
  },
  {
   "cell_type": "code",
   "execution_count": 38,
   "metadata": {},
   "outputs": [
    {
     "name": "stdout",
     "output_type": "stream",
     "text": [
      "True\n",
      "True\n",
      "False\n"
     ]
    }
   ],
   "source": [
    "cal_file_path = '/developer/library_dev/project_1/src/share/receive/bank_cal.txt'\n",
    "print(is_bank_business_day('2024/01/30', cal_file_path))\n",
    "print(is_bank_business_day('2024/01/31', cal_file_path))\n",
    "print(is_bank_business_day('2024/02/03', cal_file_path))"
   ]
  },
  {
   "cell_type": "code",
   "execution_count": null,
   "metadata": {},
   "outputs": [],
   "source": []
  }
 ],
 "metadata": {
  "kernelspec": {
   "display_name": ".venv",
   "language": "python",
   "name": "python3"
  },
  "language_info": {
   "codemirror_mode": {
    "name": "ipython",
    "version": 3
   },
   "file_extension": ".py",
   "mimetype": "text/x-python",
   "name": "python",
   "nbconvert_exporter": "python",
   "pygments_lexer": "ipython3",
   "version": "3.11.6"
  }
 },
 "nbformat": 4,
 "nbformat_minor": 2
}
