{
 "cells": [
  {
   "cell_type": "markdown",
   "metadata": {},
   "source": [
    "# https://tech-blog.abeja.asia/entry/python-312-typing-202402?utm_source=pocket_saves"
   ]
  },
  {
   "cell_type": "code",
   "execution_count": null,
   "metadata": {},
   "outputs": [],
   "source": [
    "from typing import Protocol\n",
    "\n",
    "class Repository:\n",
    "    def get(self, id: str) -> tuple[str, str]:\n",
    "        return (id, 'get')\n",
    "\n",
    "    def create(self, id: str, value: str) -> tuple[str, str]:\n",
    "        return (id, value)"
   ]
  },
  {
   "cell_type": "code",
   "execution_count": null,
   "metadata": {},
   "outputs": [],
   "source": [
    "class ReadonlyRepository(Protocol):\n",
    "    def get(self, id: str) -> tuple[str, str]:\n",
    "        ..."
   ]
  },
  {
   "cell_type": "code",
   "execution_count": null,
   "metadata": {},
   "outputs": [],
   "source": [
    "# 変更メソッドをともわないことが条件として明示されている\n",
    "def myfunc(repo: ReadonlyRepository):\n",
    "    print(repo.get('abcd'))"
   ]
  },
  {
   "cell_type": "code",
   "execution_count": null,
   "metadata": {},
   "outputs": [],
   "source": [
    "# RepositoryはReadOnlyRepositoryを継承していないが\n",
    "# 必要なメソッドが定義されているので受け入れられる\n",
    "# getメソッドがある、ナシだけの判定\n",
    "myfunc(Repository())"
   ]
  },
  {
   "cell_type": "code",
   "execution_count": null,
   "metadata": {},
   "outputs": [],
   "source": []
  }
 ],
 "metadata": {
  "language_info": {
   "name": "python"
  }
 },
 "nbformat": 4,
 "nbformat_minor": 2
}
