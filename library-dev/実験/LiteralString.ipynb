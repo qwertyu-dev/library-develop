{
 "cells": [
  {
   "cell_type": "markdown",
   "metadata": {},
   "source": [
    "# https://tech-blog.abeja.asia/entry/python-312-typing-202402?utm_source=pocket_saves"
   ]
  },
  {
   "cell_type": "code",
   "execution_count": 5,
   "metadata": {},
   "outputs": [
    {
     "ename": "TypeError",
     "evalue": "caller() missing 2 required positional arguments: 'arbitrary_string' and 'literal_string'",
     "output_type": "error",
     "traceback": [
      "\u001b[0;31m---------------------------------------------------------------------------\u001b[0m",
      "\u001b[0;31mTypeError\u001b[0m                                 Traceback (most recent call last)",
      "Cell \u001b[0;32mIn[5], line 12\u001b[0m\n\u001b[1;32m      9\u001b[0m     run_query(literal_string)\n\u001b[1;32m     10\u001b[0m     run_query(arbitrary_string)\n\u001b[0;32m---> 12\u001b[0m \u001b[43mcaller\u001b[49m\u001b[43m(\u001b[49m\u001b[43m)\u001b[49m\n",
      "\u001b[0;31mTypeError\u001b[0m: caller() missing 2 required positional arguments: 'arbitrary_string' and 'literal_string'"
     ]
    }
   ],
   "source": [
    "from typing import LiteralString\n",
    "\n",
    "\n",
    "def run_query(sql: LiteralString) -> None:\n",
    "    print(sql)\n",
    "\n",
    "def caller(arbitrary_string: str, literal_string: LiteralString) ->None:  # noqa: D103\n",
    "    run_query('SELECT * FROM students')\n",
    "    run_query(literal_string)\n",
    "    run_query(arbitrary_string)\n"
   ]
  },
  {
   "cell_type": "code",
   "execution_count": null,
   "metadata": {},
   "outputs": [],
   "source": []
  }
 ],
 "metadata": {
  "kernelspec": {
   "display_name": ".venv",
   "language": "python",
   "name": "python3"
  },
  "language_info": {
   "codemirror_mode": {
    "name": "ipython",
    "version": 3
   },
   "file_extension": ".py",
   "mimetype": "text/x-python",
   "name": "python",
   "nbconvert_exporter": "python",
   "pygments_lexer": "ipython3",
   "version": "3.11.6"
  }
 },
 "nbformat": 4,
 "nbformat_minor": 2
}
