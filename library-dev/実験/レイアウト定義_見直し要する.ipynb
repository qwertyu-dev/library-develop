{
 "cells": [
  {
   "cell_type": "code",
   "execution_count": 1,
   "metadata": {},
   "outputs": [],
   "source": [
    "jinji = [\n",
    "    'No',\n",
    "    'EffectiveDay',   # 有効日付\n",
    "    'Shurui',         # 種類\n",
    "    'Taisho',         # 対象\n",
    "    'BumonCode',      # 部門コード\n",
    "    'OyaButenCode',   # 親部店コード\n",
    "    'ButenCode',      # 部店コード\n",
    "    'ButenName',      # 部店名\n",
    "    'KaCode',         # 課エリアコード\n",
    "    'KaName',         # 課エリア名称\n",
    "    'JoChuCode',      # 常駐コード\n",
    "    'JoChuName',      # 常駐部店名称\n",
    "    'PlanDay',        # 共通認証受渡し予定日\n",
    "    'Biko',           # 備考\n",
    "    'ButenKana',      # 部店カナ\n",
    "    'MainBumonCode',  # 主部門コード\n",
    "    'OPENFlag',       # OPEN海外展開フラグ\n",
    "    'GZEUSFlag',      # GZEUS対象フラグ\n",
    "    'SyncFlag',       # Thinクライアント/NetPC利用可能フラグ\n",
    "    'Check',          # 処理フラグ\n",
    "]\n",
    "\n"
   ]
  },
  {
   "cell_type": "code",
   "execution_count": 2,
   "metadata": {},
   "outputs": [],
   "source": [
    "kaigai = [\n",
    "    'No',\n",
    "    'EffectiveDay',\n",
    "    'Shurui',\n",
    "    'Taisho',\n",
    "    'BumonCode',\n",
    "    'OyaButenCode',\n",
    "    'ButenCode',\n",
    "    'ButenName',\n",
    "    'KaCode',\n",
    "    'KaName',\n",
    "    'PlanDay',\n",
    "    'Biko',\n",
    "    'Check',\n",
    "]"
   ]
  },
  {
   "cell_type": "code",
   "execution_count": 3,
   "metadata": {},
   "outputs": [],
   "source": [
    "kanren = [\n",
    "    'No',\n",
    "    'Shurui',\n",
    "    'BumonCode',\n",
    "    'OyaButenCode',\n",
    "    'ButenCode',\n",
    "    'ButenName',\n",
    "    'KaCode',\n",
    "    'KaName',\n",
    "    'ButenKana',\n",
    "    'KanameE',\n",
    "    'KaNameR',\n",
    "    'KaNameR',\n",
    "    'SyncFlag',\n",
    "    'PlanDay',\n",
    "    'Check',\n",
    "]"
   ]
  },
  {
   "cell_type": "code",
   "execution_count": null,
   "metadata": {},
   "outputs": [],
   "source": [
    "# なんでカラム名体系が大幅に違うのだろうか\n",
    "DeptTable =[\n",
    "    'fdRequestType',       # 種類\n",
    "    'fdBPRFlag',           # BPR対象\n",
    "    'fdSectionCodeJNJ',    # 人事部門コード\n",
    "    'fdHiDeptCodeOya',     # 親部店コード\n",
    "    'fdHiDeptCode',        # 部店コード\n",
    "    'fdHIGDeptName',       # 部店名称\n",
    "    'fdNickDeptName',      # 部店カナ\n",
    "    'fdDeptCode',          # 課Grコード\n",
    "    'fdMDLDeptName',       # 課Gr名称\n",
    "    'fdBaseOffice',        # 常駐部店コード\n",
    "    'fdBaseOfficeName',    # 常駐部店名称\n",
    "    'fdAppintDay',         # 共通認証受渡し予定日\n",
    "    'fdAreaHiDeptCodeJNJ', # エリアコード\n",
    "    'fdAreaHiDeptNameJNJ', # エリアコード名称\n",
    "    'fdCorpNameInBranch',  # 支社内法人部\n",
    "    'MdeptNameA',          # 課名称(英字)\n",
    "    'MdeptNameK',          # 課名称(カナ)\n",
    "    'MdeptNameS',          # 課略称\n",
    "    'Log',\n",
    "    'ReceiptResultFlg',\n",
    "]"
   ]
  },
  {
   "cell_type": "code",
   "execution_count": null,
   "metadata": {},
   "outputs": [],
   "source": [
    "# ネーミングルール体系がはっきりとしない\n",
    "# レイアウト上のデータ階層がイマイチ明確になっていない気がする\n",
    "# Keyと関連情報が明確になっていないような気がする\n",
    "reference = [\n",
    "    'HiDeptCodeBPR',     # BPR:部店コード\n",
    "    'HIGDeptNameBPR',    # BPR:部店名　　　　　　　     HIである理由なぞ\n",
    "    'MDeptCodeBPR',      # BPR:課・グループコード       Mがなにをあらわしているのか\n",
    "    'MDLDeptNameBPR',    # BPR:課・グループ名           MDLが何を表しているのか\n",
    "    'SectionCode',       # BPR:部門コード　　　　　     レコードのKeyではないと思うがここの一が適切か、ネーミング体系に則っているのか\n",
    "    'HiDeptCodeOya',     # BPR:親部店コード             ネーミング体系に則っていない\n",
    "    'HiDeptCodeJNJ',     # 人事:部店コード\n",
    "    'HIGDeptNameJNJ',    # 人事:部店名\n",
    "    'MDeptCodeJNJ',      # 人事:課・グループコード\n",
    "    'MDLDeptNameJNJ',    # 人事:課・グループ名\n",
    "    'AreaHiDeptCodeJNJ', # エリア情報:部店コード         ネーミング体系に疑問、エリアと人事\n",
    "    'AreaHiDeptNameJNJ', # エリア情報:部店名\n",
    "    'AreaMDeptCodeJNJ',  # エリア情報:課・グループコード\n",
    "    'AreaMeptNameJNJ',   # エリア情報:課・グループ名     Meptってなに・・ MDeptが正しいのでは\n",
    "    'BranchFlag',        # エリア情報:出張所コード       エリア情報要素が盛り込まれていない\n",
    "    'BranchName',        # エリア情報:出張所名称\n",
    "    'DutyCode',          # エリア情報:業務コード\n",
    "    'AreaCode',          # エリア情報:エリアコード       抽象すぎる\n",
    "    'AreaName',          # エリア情報:エリア名称\n",
    "    'BaseOffice',        # エリア情報:常駐店番           抽象すぎる Codeが入るべきなのでは\n",
    "    'BaseOfficeName',    # エリア情報:常駐店番名称\n",
    "    'BrCorpCode',        # エリア情報:支社内法人部コード ネーミング体系に疑問残る\n",
    "    'NickDeptCode',      # カナ組織名                    何のカナ組織名なのかあいまい\n",
    "    'BPRFlag',           # BPR対象/対象外フラグ          何に対してなのか曖昧\n",
    "    'SortNo',            # 表示順                        何に対してなのか曖昧\n",
    "    'Check',             # 処理フラグ                    何に対する処理なのか曖昧\n",
    "]"
   ]
  },
  {
   "cell_type": "code",
   "execution_count": 5,
   "metadata": {},
   "outputs": [],
   "source": [
    "# 部門コードから主管部門コードが決まるのであれば明細系に主管部門コードを持つ必要はないと思われる構造\n",
    "# くっつけるなら単にmergeすれば事は済むと思われる\n",
    "SectionCode = [\n",
    "    'BumonCode',           # 部門コード\n",
    "    'BumonName',           # 部門名称\n",
    "    'MainBumonCode',       # 主管部門コード\n",
    "    'Ref_BumonCode',       # リファレンス部門コード      ネーミング体系に則っていない\n",
    "]"
   ]
  },
  {
   "cell_type": "code",
   "execution_count": 9,
   "metadata": {},
   "outputs": [],
   "source": [
    "# 支社内法人部テーブル　と説明があるが\n",
    "# なにを表現しているのか、どのように使用するのか曖昧な状態\n",
    "Shishanai_Hojinbu =[\n",
    "    'HDeptName',           # 部店名称(支社名)\n",
    "    'MDeptCode',           # 課Gr.コード\n",
    "    'MDeptName',           # 課Gr.名称\n",
    "]"
   ]
  },
  {
   "cell_type": "code",
   "execution_count": 7,
   "metadata": {},
   "outputs": [],
   "source": [
    "# 課Gr名分解テーブルと説明があるが\n",
    "# その説明と構造・カラム名が曖昧な状況\n",
    "Shishanai_MDept = [\n",
    "    'fdCorpNameInBranch',  # 支社内法人部     何を表現しているのか伝わらない\n",
    "    'fdMDLDeptName',       # 課Gr.名称\n",
    "]"
   ]
  },
  {
   "cell_type": "code",
   "execution_count": null,
   "metadata": {},
   "outputs": [],
   "source": []
  }
 ],
 "metadata": {
  "kernelspec": {
   "display_name": ".venv",
   "language": "python",
   "name": "python3"
  },
  "language_info": {
   "codemirror_mode": {
    "name": "ipython",
    "version": 3
   },
   "file_extension": ".py",
   "mimetype": "text/x-python",
   "name": "python",
   "nbconvert_exporter": "python",
   "pygments_lexer": "ipython3",
   "version": "3.11.6"
  }
 },
 "nbformat": 4,
 "nbformat_minor": 2
}
