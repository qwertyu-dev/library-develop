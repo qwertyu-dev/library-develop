{
 "cells": [
  {
   "cell_type": "code",
   "execution_count": 2,
   "metadata": {},
   "outputs": [
    {
     "data": {
      "text/plain": [
       "\"最初のEDAを定義する\\n\\n- shopno\\n    - **** → ''\\n    - '1234' -> 2345\\n    - '5678' -> 4567\\n\\nCopy right:\\n    (あとで書く)\\n\\nArgs:\\n    ...\\n\\nReturns:\\n    ...\\n\\nRaises:\\n    - _description_\\n\\nExample:\\n    >>> (sample code)\\n\\nNotes:\\n    _description_\\n\\nChangelog:\\n    - v1.0.0 (2024/01/01): Initial release\\n    -\\n\""
      ]
     },
     "execution_count": 2,
     "metadata": {},
     "output_type": "execute_result"
    }
   ],
   "source": [
    "# どんな構成とするかの検討\n",
    "\"\"\"最初のEDAを定義する\n",
    "\n",
    "- shopno\n",
    "    - **** → ''\n",
    "    - '1234' -> 2345\n",
    "    - '5678' -> 4567\n",
    "\n",
    "Copy right:\n",
    "    (あとで書く)\n",
    "\n",
    "Args:\n",
    "    ...\n",
    "\n",
    "Returns:\n",
    "    ...\n",
    "\n",
    "Raises:\n",
    "    - _description_\n",
    "\n",
    "Example:\n",
    "    >>> (sample code)\n",
    "\n",
    "Notes:\n",
    "    _description_\n",
    "\n",
    "Changelog:\n",
    "    - v1.0.0 (2024/01/01): Initial release\n",
    "    -\n",
    "\"\"\""
   ]
  },
  {
   "cell_type": "code",
   "execution_count": 7,
   "metadata": {},
   "outputs": [
    {
     "name": "stdout",
     "output_type": "stream",
     "text": [
      "     col1\n",
      "0   apple\n",
      "1        \n",
      "2  orange\n",
      "3    2345\n",
      "4    aaaa\n",
      "5    4567\n"
     ]
    }
   ],
   "source": [
    "import pandas as pd\n",
    "\n",
    "def convert_1(series: pd.Series) -> pd.Series:\n",
    "    # **** -> ''\n",
    "    return series.replace('****', '')\n",
    "\n",
    "def convert_2(series: pd.Series) -> pd.Series:\n",
    "    # '1234' -> '2345'\n",
    "    return series.replace('1234', '2345')\n",
    "\n",
    "def convert_3(series: pd.Series) -> pd.Series:\n",
    "    # '5678' -> '4567'\n",
    "    return series.replace('5678', '4567')\n",
    "\n",
    "def apply_converts(df: pd.DataFrame, column: str) -> pd.DataFrame:\n",
    "    converts = [\n",
    "        convert_1,\n",
    "        convert_2,\n",
    "        convert_3,\n",
    "        ]\n",
    "    for convert in converts:\n",
    "        df[column] = convert(df[column])\n",
    "    return df\n",
    "\n",
    "df = pd.DataFrame({'col1': ['apple', '****', 'orange', '1234', 'aaaa', '5678']})\n",
    "\n",
    "\n",
    "df = apply_converts(df, 'col1')\n",
    "print(df)\n"
   ]
  },
  {
   "cell_type": "code",
   "execution_count": 13,
   "metadata": {},
   "outputs": [
    {
     "name": "stdout",
     "output_type": "stream",
     "text": [
      "     col1\n",
      "0   apple\n",
      "1        \n",
      "2  orange\n",
      "3    2345\n",
      "4    aaaa\n",
      "5    4567\n"
     ]
    }
   ],
   "source": [
    "\n",
    "import pandas as pd\n",
    "\n",
    "def convert_1(value: str) -> str:\n",
    "    # **** -> ''\n",
    "    return value.replace('****', '')\n",
    "\n",
    "def convert_2(value: str) -> str:\n",
    "    # '1234' -> '2345'\n",
    "    return value.replace('1234', '2345')\n",
    "\n",
    "def convert_3(value: str) -> str:\n",
    "    # '5678' -> '4567'\n",
    "    return value.replace('5678', '4567')\n",
    "\n",
    "def apply_converts(value: str) -> str:\n",
    "    converts = [\n",
    "    convert_1,\n",
    "    convert_2,\n",
    "    convert_3,\n",
    "    ]\n",
    "    for convert in converts:\n",
    "        value = convert(value)\n",
    "    return value\n",
    "\n",
    "df = pd.DataFrame({'col1': ['apple', '****', 'orange', '1234', 'aaaa', '5678']})\n",
    "\n",
    "df['col1'] = df['col1'].map(apply_converts)\n",
    "print(df)\n"
   ]
  },
  {
   "cell_type": "code",
   "execution_count": null,
   "metadata": {},
   "outputs": [],
   "source": []
  },
  {
   "cell_type": "code",
   "execution_count": null,
   "metadata": {},
   "outputs": [],
   "source": []
  }
 ],
 "metadata": {
  "kernelspec": {
   "display_name": ".venv",
   "language": "python",
   "name": "python3"
  },
  "language_info": {
   "codemirror_mode": {
    "name": "ipython",
    "version": 3
   },
   "file_extension": ".py",
   "mimetype": "text/x-python",
   "name": "python",
   "nbconvert_exporter": "python",
   "pygments_lexer": "ipython3",
   "version": "3.11.6"
  }
 },
 "nbformat": 4,
 "nbformat_minor": 2
}
