{
 "cells": [
  {
   "cell_type": "code",
   "execution_count": 10,
   "metadata": {},
   "outputs": [
    {
     "data": {
      "text/html": [
       "<div>\n",
       "<style scoped>\n",
       "    .dataframe tbody tr th:only-of-type {\n",
       "        vertical-align: middle;\n",
       "    }\n",
       "\n",
       "    .dataframe tbody tr th {\n",
       "        vertical-align: top;\n",
       "    }\n",
       "\n",
       "    .dataframe thead th {\n",
       "        text-align: right;\n",
       "    }\n",
       "</style>\n",
       "<table border=\"1\" class=\"dataframe\">\n",
       "  <thead>\n",
       "    <tr style=\"text-align: right;\">\n",
       "      <th></th>\n",
       "      <th>job</th>\n",
       "      <th>name</th>\n",
       "      <th>level</th>\n",
       "    </tr>\n",
       "  </thead>\n",
       "  <tbody>\n",
       "    <tr>\n",
       "      <th>0</th>\n",
       "      <td>勇者</td>\n",
       "      <td>桃</td>\n",
       "      <td>1</td>\n",
       "    </tr>\n",
       "    <tr>\n",
       "      <th>1</th>\n",
       "      <td>動物</td>\n",
       "      <td>犬</td>\n",
       "      <td>1</td>\n",
       "    </tr>\n",
       "    <tr>\n",
       "      <th>2</th>\n",
       "      <td>動物</td>\n",
       "      <td>猿</td>\n",
       "      <td>1</td>\n",
       "    </tr>\n",
       "    <tr>\n",
       "      <th>3</th>\n",
       "      <td>動物</td>\n",
       "      <td>雉</td>\n",
       "      <td>1</td>\n",
       "    </tr>\n",
       "  </tbody>\n",
       "</table>\n",
       "</div>"
      ],
      "text/plain": [
       "  job name  level\n",
       "0  勇者    桃      1\n",
       "1  動物    犬      1\n",
       "2  動物    猿      1\n",
       "3  動物    雉      1"
      ]
     },
     "execution_count": 10,
     "metadata": {},
     "output_type": "execute_result"
    }
   ],
   "source": [
    "import pandas as pd\n",
    "\n",
    "data = [[\"勇者\", \"桃\", 1],\n",
    "        [\"動物\", \"犬\", 1],\n",
    "        [\"動物\", \"猿\", 1],\n",
    "        [\"動物\", \"雉\", 1]]\n",
    "\n",
    "df = pd.DataFrame(data)                 # データフレームの作成\n",
    "df.columns = [\"job\", \"name\", \"level\"]   # カラム名をdataFrameにつける\n",
    "df"
   ]
  },
  {
   "cell_type": "code",
   "execution_count": 11,
   "metadata": {},
   "outputs": [
    {
     "name": "stdout",
     "output_type": "stream",
     "text": [
      "job      勇者\n",
      "name      桃\n",
      "level     1\n",
      "Name: 0, dtype: object\n",
      "job      動物\n",
      "name      犬\n",
      "level     1\n",
      "Name: 1, dtype: object\n",
      "job      動物\n",
      "name      猿\n",
      "level     1\n",
      "Name: 2, dtype: object\n",
      "job      動物\n",
      "name      雉\n",
      "level     1\n",
      "Name: 3, dtype: object\n"
     ]
    }
   ],
   "source": [
    "for  i, row in df.iterrows():\n",
    "    # rowはpd.Seriesである\n",
    "    # rowはdfのコピーであり実体ではないので更新反映できない\n",
    "    print(row)"
   ]
  },
  {
   "cell_type": "code",
   "execution_count": 12,
   "metadata": {},
   "outputs": [
    {
     "name": "stdout",
     "output_type": "stream",
     "text": [
      "job      勇者\n",
      "name      桃\n",
      "level     1\n",
      "Name: 0, dtype: object\n"
     ]
    }
   ],
   "source": [
    "for i, rows in df.iterrows():\n",
    "    if rows['name'] == '桃':\n",
    "        print(rows)"
   ]
  },
  {
   "cell_type": "code",
   "execution_count": 13,
   "metadata": {},
   "outputs": [
    {
     "data": {
      "text/html": [
       "<div>\n",
       "<style scoped>\n",
       "    .dataframe tbody tr th:only-of-type {\n",
       "        vertical-align: middle;\n",
       "    }\n",
       "\n",
       "    .dataframe tbody tr th {\n",
       "        vertical-align: top;\n",
       "    }\n",
       "\n",
       "    .dataframe thead th {\n",
       "        text-align: right;\n",
       "    }\n",
       "</style>\n",
       "<table border=\"1\" class=\"dataframe\">\n",
       "  <thead>\n",
       "    <tr style=\"text-align: right;\">\n",
       "      <th></th>\n",
       "      <th>job</th>\n",
       "      <th>name</th>\n",
       "      <th>level</th>\n",
       "    </tr>\n",
       "  </thead>\n",
       "  <tbody>\n",
       "    <tr>\n",
       "      <th>0</th>\n",
       "      <td>勇者</td>\n",
       "      <td>桃太郎</td>\n",
       "      <td>1</td>\n",
       "    </tr>\n",
       "    <tr>\n",
       "      <th>1</th>\n",
       "      <td>動物</td>\n",
       "      <td>犬</td>\n",
       "      <td>1</td>\n",
       "    </tr>\n",
       "    <tr>\n",
       "      <th>2</th>\n",
       "      <td>動物</td>\n",
       "      <td>猿</td>\n",
       "      <td>1</td>\n",
       "    </tr>\n",
       "    <tr>\n",
       "      <th>3</th>\n",
       "      <td>動物</td>\n",
       "      <td>雉</td>\n",
       "      <td>1</td>\n",
       "    </tr>\n",
       "  </tbody>\n",
       "</table>\n",
       "</div>"
      ],
      "text/plain": [
       "  job name  level\n",
       "0  勇者  桃太郎      1\n",
       "1  動物    犬      1\n",
       "2  動物    猿      1\n",
       "3  動物    雉      1"
      ]
     },
     "execution_count": 13,
     "metadata": {},
     "output_type": "execute_result"
    }
   ],
   "source": [
    "for i, rows in df.iterrows():\n",
    "    if rows['name'] == '桃':\n",
    "        df.at[i, 'name'] = '桃太郎'\n",
    "        #df.loc[i, 'name'] = '桃太郎'\n",
    "df"
   ]
  },
  {
   "cell_type": "code",
   "execution_count": null,
   "metadata": {},
   "outputs": [],
   "source": []
  }
 ],
 "metadata": {
  "kernelspec": {
   "display_name": ".venv",
   "language": "python",
   "name": "python3"
  },
  "language_info": {
   "codemirror_mode": {
    "name": "ipython",
    "version": 3
   },
   "file_extension": ".py",
   "mimetype": "text/x-python",
   "name": "python",
   "nbconvert_exporter": "python",
   "pygments_lexer": "ipython3",
   "version": "3.11.6"
  }
 },
 "nbformat": 4,
 "nbformat_minor": 2
}
