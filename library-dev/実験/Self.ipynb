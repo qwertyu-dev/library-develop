{
 "cells": [
  {
   "cell_type": "markdown",
   "metadata": {},
   "source": [
    "# https://tech-blog.abeja.asia/entry/python-312-typing-202402?utm_source=pocket_saves"
   ]
  },
  {
   "cell_type": "code",
   "execution_count": 1,
   "metadata": {},
   "outputs": [],
   "source": [
    "from typing import Self\n",
    "import math\n",
    "\n",
    "class Polyline:\n",
    "    def __init__(self, line: list[tuple[float, float]]):\n",
    "        self.line = line\n",
    "\n",
    "    def rot(self, rad: float) -> Self:\n",
    "        s = math.sin(rad)\n",
    "        c = math.cos(rad)\n",
    "        self.line = [(c*x-s*y, s*x+c*y) for x, y in self.line]\n",
    "        return self\n",
    "\n",
    "    def shift(self, dx: float, dy: float) -> Self:\n",
    "        self.line = [(x+dy, y+dy) for x, y in self.line]\n",
    "        return self\n",
    "\n",
    "    def scale(self, sx: float, sy: float)-> Self:\n",
    "        self.line = [(sx*x, sy*y) for x, y in self.line]\n",
    "        return self"
   ]
  },
  {
   "cell_type": "code",
   "execution_count": 4,
   "metadata": {},
   "outputs": [
    {
     "data": {
      "text/plain": [
       "<__main__.PolyNewWithColor at 0x7fa010c9ec10>"
      ]
     },
     "execution_count": 4,
     "metadata": {},
     "output_type": "execute_result"
    }
   ],
   "source": [
    "# return selfとすることでチェーンメソッドとして利用できる\n",
    "# Python3.11から、自クラスを示すSelf型が利用できるようになりました。\n",
    "# 継承されたときに継承先のクラスを示すのが特徴です。\n",
    "# なので、自クラスを再生成して返す場合には利用できません。\n",
    "class PolyNewWithColor(Polyline):\n",
    "    def __init__(\n",
    "        self,\n",
    "        line: list[tuple[float, float]],\n",
    "        color: tuple[int, int, int],\n",
    "    ):\n",
    "        super().__init__(line)\n",
    "        self.color = color\n",
    "\n",
    "polyline = (\n",
    "    PolyNewWithColor([(0, 0), (1, 1)], (0, 0, 0))\n",
    "    .rot(-math.pi/4)\n",
    "    .shift(1, 0)\n",
    "    .scale(2, 100)\n",
    ")\n",
    "\n",
    "polyline"
   ]
  },
  {
   "cell_type": "code",
   "execution_count": 5,
   "metadata": {},
   "outputs": [
    {
     "name": "stdout",
     "output_type": "stream",
     "text": [
      "[(0.0, 0.0), (2.82842712474619, 1.1102230246251565e-14)]\n"
     ]
    }
   ],
   "source": [
    "print(Polyline([(0, 0), (1, 1)]).rot(-math.pi/4).shift(1, 0).scale(2, 100).line)"
   ]
  },
  {
   "cell_type": "code",
   "execution_count": null,
   "metadata": {},
   "outputs": [],
   "source": []
  }
 ],
 "metadata": {
  "kernelspec": {
   "display_name": ".venv",
   "language": "python",
   "name": "python3"
  },
  "language_info": {
   "codemirror_mode": {
    "name": "ipython",
    "version": 3
   },
   "file_extension": ".py",
   "mimetype": "text/x-python",
   "name": "python",
   "nbconvert_exporter": "python",
   "pygments_lexer": "ipython3",
   "version": "3.11.6"
  }
 },
 "nbformat": 4,
 "nbformat_minor": 2
}
