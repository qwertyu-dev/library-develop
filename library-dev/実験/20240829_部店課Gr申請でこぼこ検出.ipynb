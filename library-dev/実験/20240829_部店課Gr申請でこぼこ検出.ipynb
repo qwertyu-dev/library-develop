{
 "cells": [
  {
   "cell_type": "code",
   "execution_count": 2,
   "metadata": {},
   "outputs": [
    {
     "data": {
      "text/html": [
       "<div>\n",
       "<style scoped>\n",
       "    .dataframe tbody tr th:only-of-type {\n",
       "        vertical-align: middle;\n",
       "    }\n",
       "\n",
       "    .dataframe tbody tr th {\n",
       "        vertical-align: top;\n",
       "    }\n",
       "\n",
       "    .dataframe thead th {\n",
       "        text-align: right;\n",
       "    }\n",
       "</style>\n",
       "<table border=\"1\" class=\"dataframe\">\n",
       "  <thead>\n",
       "    <tr style=\"text-align: right;\">\n",
       "      <th></th>\n",
       "      <th>部店コード</th>\n",
       "      <th>課Grコード</th>\n",
       "      <th>部店名称</th>\n",
       "      <th>課Gr名称</th>\n",
       "    </tr>\n",
       "  </thead>\n",
       "  <tbody>\n",
       "    <tr>\n",
       "      <th>0</th>\n",
       "      <td>1234</td>\n",
       "      <td>None</td>\n",
       "      <td>東京支店</td>\n",
       "      <td>None</td>\n",
       "    </tr>\n",
       "    <tr>\n",
       "      <th>1</th>\n",
       "      <td>1234</td>\n",
       "      <td>01</td>\n",
       "      <td>東京支店</td>\n",
       "      <td>営業課</td>\n",
       "    </tr>\n",
       "    <tr>\n",
       "      <th>2</th>\n",
       "      <td>5678</td>\n",
       "      <td>None</td>\n",
       "      <td>大阪支店</td>\n",
       "      <td>None</td>\n",
       "    </tr>\n",
       "    <tr>\n",
       "      <th>3</th>\n",
       "      <td>9012</td>\n",
       "      <td>01</td>\n",
       "      <td>名古屋支店</td>\n",
       "      <td>営業課</td>\n",
       "    </tr>\n",
       "    <tr>\n",
       "      <th>4</th>\n",
       "      <td>9012</td>\n",
       "      <td>02</td>\n",
       "      <td>名古屋支店</td>\n",
       "      <td>管理課</td>\n",
       "    </tr>\n",
       "    <tr>\n",
       "      <th>5</th>\n",
       "      <td>3456</td>\n",
       "      <td>None</td>\n",
       "      <td>福岡支店</td>\n",
       "      <td>None</td>\n",
       "    </tr>\n",
       "  </tbody>\n",
       "</table>\n",
       "</div>"
      ],
      "text/plain": [
       "  部店コード 課Grコード   部店名称 課Gr名称\n",
       "0  1234   None   東京支店  None\n",
       "1  1234     01   東京支店   営業課\n",
       "2  5678   None   大阪支店  None\n",
       "3  9012     01  名古屋支店   営業課\n",
       "4  9012     02  名古屋支店   管理課\n",
       "5  3456   None   福岡支店  None"
      ]
     },
     "execution_count": 2,
     "metadata": {},
     "output_type": "execute_result"
    }
   ],
   "source": [
    "import pandas as pd\n",
    "\n",
    "# 使用例\n",
    "df = pd.DataFrame({\n",
    "    '部店コード': ['1234', '1234', '5678', '9012', '9012', '3456'],\n",
    "    '課Grコード': [None, '01', None, '01', '02', None],\n",
    "    '部店名称': ['東京支店', '東京支店', '大阪支店', '名古屋支店', '名古屋支店', '福岡支店'],\n",
    "    '課Gr名称': [None, '営業課', None, '営業課', '管理課', None]\n",
    "})\n",
    "df\n"
   ]
  },
  {
   "cell_type": "code",
   "execution_count": 14,
   "metadata": {},
   "outputs": [
    {
     "name": "stdout",
     "output_type": "stream",
     "text": [
      "+--------------+--------------+------------+------------+\n",
      "|   部店コード |   課Grコード | 部店名称   | 課Gr名称   |\n",
      "+==============+==============+============+============+\n",
      "|         1234 |              | 東京支店   |            |\n",
      "+--------------+--------------+------------+------------+\n",
      "|         1234 |           01 | 東京支店   | 営業課     |\n",
      "+--------------+--------------+------------+------------+\n",
      "|         5678 |              | 大阪支店   |            |\n",
      "+--------------+--------------+------------+------------+\n",
      "|         9012 |           01 | 名古屋支店 | 営業課     |\n",
      "+--------------+--------------+------------+------------+\n",
      "|         9012 |           02 | 名古屋支店 | 管理課     |\n",
      "+--------------+--------------+------------+------------+\n",
      "|         3456 |              | 福岡支店   |            |\n",
      "+--------------+--------------+------------+------------+\n"
     ]
    }
   ],
   "source": [
    "from tabulate import tabulate\n",
    "print(tabulate(df, tablefmt='grid', headers=df.columns, showindex=False))"
   ]
  },
  {
   "cell_type": "code",
   "execution_count": 15,
   "metadata": {},
   "outputs": [],
   "source": [
    "grouped = df.groupby('部店コード')\n",
    "def check_group(group):\n",
    "    has_bu = group['課Grコード'].isnull().any()  # 部明細の存在チェック\n",
    "    has_ka = group['課Grコード'].notnull().any()  # 課Gr明細の存在チェック\n",
    "    return pd.Series({'has_bu': has_bu, 'has_ka': has_ka})\n",
    "result = grouped.apply(check_group)"
   ]
  },
  {
   "cell_type": "code",
   "execution_count": 16,
   "metadata": {},
   "outputs": [
    {
     "name": "stdout",
     "output_type": "stream",
     "text": [
      "+--------------+--------------+\n",
      "|   部店コード |   課Grコード |\n",
      "+==============+==============+\n",
      "|            1 |            1 |\n",
      "+--------------+--------------+\n",
      "|            1 |            0 |\n",
      "+--------------+--------------+\n",
      "|            1 |            0 |\n",
      "+--------------+--------------+\n",
      "|            0 |            1 |\n",
      "+--------------+--------------+\n"
     ]
    }
   ],
   "source": [
    "print(tabulate(result, tablefmt='grid', headers=df.columns, showindex=False))\n",
    "\n"
   ]
  },
  {
   "cell_type": "code",
   "execution_count": 34,
   "metadata": {},
   "outputs": [
    {
     "name": "stdout",
     "output_type": "stream",
     "text": [
      "1234\n",
      "  部店コード 課Grコード  部店名称 課Gr名称\n",
      "0  1234   None  東京支店  None\n",
      "1  1234     01  東京支店   営業課\n",
      "3456\n",
      "  部店コード 課Grコード  部店名称 課Gr名称\n",
      "5  3456   None  福岡支店  None\n",
      "5678\n",
      "  部店コード 課Grコード  部店名称 課Gr名称\n",
      "2  5678   None  大阪支店  None\n",
      "9012\n",
      "  部店コード 課Grコード   部店名称 課Gr名称\n",
      "3  9012     01  名古屋支店   営業課\n",
      "4  9012     02  名古屋支店   管理課\n"
     ]
    }
   ],
   "source": [
    "from pprint import pprint\n",
    "for name, series in grouped:\n",
    "    print(name)\n",
    "    print(series)"
   ]
  },
  {
   "cell_type": "code",
   "execution_count": 35,
   "metadata": {},
   "outputs": [
    {
     "name": "stdout",
     "output_type": "stream",
     "text": [
      "部店コード 1234 のグループ:\n",
      "  部店コード 課Grコード  部店名称 課Gr名称\n",
      "0  1234   None  東京支店  None\n",
      "1  1234     01  東京支店   営業課\n",
      "課Grコードがnullの行がある: True\n",
      "課Grコードが非nullの行がある: True\n",
      "\n",
      "\n",
      "部店コード 3456 のグループ:\n",
      "  部店コード 課Grコード  部店名称 課Gr名称\n",
      "5  3456   None  福岡支店  None\n",
      "課Grコードがnullの行がある: True\n",
      "課Grコードが非nullの行がある: False\n",
      "\n",
      "\n",
      "部店コード 5678 のグループ:\n",
      "  部店コード 課Grコード  部店名称 課Gr名称\n",
      "2  5678   None  大阪支店  None\n",
      "課Grコードがnullの行がある: True\n",
      "課Grコードが非nullの行がある: False\n",
      "\n",
      "\n",
      "部店コード 9012 のグループ:\n",
      "  部店コード 課Grコード   部店名称 課Gr名称\n",
      "3  9012     01  名古屋支店   営業課\n",
      "4  9012     02  名古屋支店   管理課\n",
      "課Grコードがnullの行がある: False\n",
      "課Grコードが非nullの行がある: True\n",
      "\n",
      "\n"
     ]
    }
   ],
   "source": [
    "for name, group in grouped:\n",
    "    print(f\"部店コード {name} のグループ:\")\n",
    "    print(group)\n",
    "    print(f\"課Grコードがnullの行がある: {group['課Grコード'].isnull().any()}\")\n",
    "    print(f\"課Grコードが非nullの行がある: {group['課Grコード'].notnull().any()}\")\n",
    "    print(\"\\n\")"
   ]
  },
  {
   "cell_type": "code",
   "execution_count": 40,
   "metadata": {},
   "outputs": [
    {
     "name": "stdout",
     "output_type": "stream",
     "text": [
      "1234\n",
      "0     True\n",
      "1    False\n",
      "Name: 課Grコード, dtype: bool\n",
      "0    False\n",
      "1     True\n",
      "Name: 課Grコード, dtype: bool\n",
      "3456\n",
      "5    True\n",
      "Name: 課Grコード, dtype: bool\n",
      "5    False\n",
      "Name: 課Grコード, dtype: bool\n",
      "5678\n",
      "2    True\n",
      "Name: 課Grコード, dtype: bool\n",
      "2    False\n",
      "Name: 課Grコード, dtype: bool\n",
      "9012\n",
      "3    False\n",
      "4    False\n",
      "Name: 課Grコード, dtype: bool\n",
      "3    True\n",
      "4    True\n",
      "Name: 課Grコード, dtype: bool\n"
     ]
    }
   ],
   "source": [
    "for name, series in grouped:\n",
    "    print(name)\n",
    "    pprint(series['課Grコード'].isnull())\n",
    "    pprint(series['課Grコード'].notnull())"
   ]
  },
  {
   "cell_type": "code",
   "execution_count": 41,
   "metadata": {},
   "outputs": [
    {
     "name": "stdout",
     "output_type": "stream",
     "text": [
      "部明細のみの部店コード: ['3456', '5678']\n",
      "課Gr明細のみの部店コード: ['9012']\n"
     ]
    }
   ],
   "source": [
    "import pandas as pd\n",
    "\n",
    "def detect_incomplete_records(df):\n",
    "    # 部店コードと課Grコードをキーにしてグループ化\n",
    "    grouped = df.groupby('部店コード')\n",
    "\n",
    "    # 各グループ内で部明細と課Gr明細の存在をチェック\n",
    "    def check_group(group):\n",
    "        has_bu = group['課Grコード'].isnull().any()  # 部明細の存在チェック\n",
    "        has_ka = group['課Grコード'].notnull().any()  # 課Gr明細の存在チェック\n",
    "        return pd.Series({'has_bu': has_bu, 'has_ka': has_ka})\n",
    "\n",
    "    result = grouped.apply(check_group)\n",
    "\n",
    "    # 部明細のみ、または課Gr明細のみの部店コードを抽出\n",
    "    # Groupby実行結果のindexにGroupby毎の部店が設定されているのを利用する\n",
    "    incomplete_bu = result[result['has_bu'] & ~result['has_ka']].index\n",
    "    incomplete_ka = result[~result['has_bu'] & result['has_ka']].index\n",
    "\n",
    "    # ただし返しているのはIndexオブジェクト\n",
    "    return incomplete_bu, incomplete_ka\n",
    "\n",
    "# 使用例\n",
    "df = pd.DataFrame({\n",
    "    '部店コード': ['1234', '1234', '5678', '9012', '9012', '3456'],\n",
    "    '課Grコード': [None, '01', None, '01', '02', None],\n",
    "    '部店名称': ['東京支店', '東京支店', '大阪支店', '名古屋支店', '名古屋支店', '福岡支店'],\n",
    "    '課Gr名称': [None, '営業課', None, '営業課', '管理課', None]\n",
    "})\n",
    "\n",
    "incomplete_bu, incomplete_ka = detect_incomplete_records(df)\n",
    "\n",
    "print(\"部明細のみの部店コード:\", incomplete_bu.tolist())\n",
    "print(\"課Gr明細のみの部店コード:\", incomplete_ka.tolist())"
   ]
  },
  {
   "cell_type": "code",
   "execution_count": 42,
   "metadata": {},
   "outputs": [
    {
     "data": {
      "text/plain": [
       "Index(['3456', '5678'], dtype='object', name='部店コード')"
      ]
     },
     "execution_count": 42,
     "metadata": {},
     "output_type": "execute_result"
    }
   ],
   "source": [
    "incomplete_bu"
   ]
  },
  {
   "cell_type": "code",
   "execution_count": 43,
   "metadata": {},
   "outputs": [
    {
     "data": {
      "text/plain": [
       "Index(['9012'], dtype='object', name='部店コード')"
      ]
     },
     "execution_count": 43,
     "metadata": {},
     "output_type": "execute_result"
    }
   ],
   "source": [
    "incomplete_ka"
   ]
  },
  {
   "cell_type": "code",
   "execution_count": 44,
   "metadata": {},
   "outputs": [
    {
     "data": {
      "text/html": [
       "<div>\n",
       "<style scoped>\n",
       "    .dataframe tbody tr th:only-of-type {\n",
       "        vertical-align: middle;\n",
       "    }\n",
       "\n",
       "    .dataframe tbody tr th {\n",
       "        vertical-align: top;\n",
       "    }\n",
       "\n",
       "    .dataframe thead th {\n",
       "        text-align: right;\n",
       "    }\n",
       "</style>\n",
       "<table border=\"1\" class=\"dataframe\">\n",
       "  <thead>\n",
       "    <tr style=\"text-align: right;\">\n",
       "      <th></th>\n",
       "      <th>has_bu</th>\n",
       "      <th>has_ka</th>\n",
       "    </tr>\n",
       "    <tr>\n",
       "      <th>部店コード</th>\n",
       "      <th></th>\n",
       "      <th></th>\n",
       "    </tr>\n",
       "  </thead>\n",
       "  <tbody>\n",
       "    <tr>\n",
       "      <th>1234</th>\n",
       "      <td>True</td>\n",
       "      <td>True</td>\n",
       "    </tr>\n",
       "    <tr>\n",
       "      <th>3456</th>\n",
       "      <td>True</td>\n",
       "      <td>False</td>\n",
       "    </tr>\n",
       "    <tr>\n",
       "      <th>5678</th>\n",
       "      <td>True</td>\n",
       "      <td>False</td>\n",
       "    </tr>\n",
       "    <tr>\n",
       "      <th>9012</th>\n",
       "      <td>False</td>\n",
       "      <td>True</td>\n",
       "    </tr>\n",
       "  </tbody>\n",
       "</table>\n",
       "</div>"
      ],
      "text/plain": [
       "       has_bu  has_ka\n",
       "部店コード                \n",
       "1234     True    True\n",
       "3456     True   False\n",
       "5678     True   False\n",
       "9012    False    True"
      ]
     },
     "execution_count": 44,
     "metadata": {},
     "output_type": "execute_result"
    }
   ],
   "source": [
    "result"
   ]
  },
  {
   "cell_type": "code",
   "execution_count": 45,
   "metadata": {},
   "outputs": [
    {
     "data": {
      "text/html": [
       "<div>\n",
       "<style scoped>\n",
       "    .dataframe tbody tr th:only-of-type {\n",
       "        vertical-align: middle;\n",
       "    }\n",
       "\n",
       "    .dataframe tbody tr th {\n",
       "        vertical-align: top;\n",
       "    }\n",
       "\n",
       "    .dataframe thead th {\n",
       "        text-align: right;\n",
       "    }\n",
       "</style>\n",
       "<table border=\"1\" class=\"dataframe\">\n",
       "  <thead>\n",
       "    <tr style=\"text-align: right;\">\n",
       "      <th></th>\n",
       "      <th>has_bu</th>\n",
       "      <th>has_ka</th>\n",
       "    </tr>\n",
       "    <tr>\n",
       "      <th>部店コード</th>\n",
       "      <th></th>\n",
       "      <th></th>\n",
       "    </tr>\n",
       "  </thead>\n",
       "  <tbody>\n",
       "    <tr>\n",
       "      <th>3456</th>\n",
       "      <td>True</td>\n",
       "      <td>False</td>\n",
       "    </tr>\n",
       "    <tr>\n",
       "      <th>5678</th>\n",
       "      <td>True</td>\n",
       "      <td>False</td>\n",
       "    </tr>\n",
       "  </tbody>\n",
       "</table>\n",
       "</div>"
      ],
      "text/plain": [
       "       has_bu  has_ka\n",
       "部店コード                \n",
       "3456     True   False\n",
       "5678     True   False"
      ]
     },
     "execution_count": 45,
     "metadata": {},
     "output_type": "execute_result"
    }
   ],
   "source": [
    "result[result['has_bu'] & ~result['has_ka']]"
   ]
  },
  {
   "cell_type": "code",
   "execution_count": 19,
   "metadata": {},
   "outputs": [
    {
     "name": "stdout",
     "output_type": "stream",
     "text": [
      "+------+--------------+------------+------------+\n",
      "|      |   課Grコード | 部店名称   | 課Gr名称   |\n",
      "+======+==============+============+============+\n",
      "| 1234 |           01 | 東京支店   | 営業課     |\n",
      "+------+--------------+------------+------------+\n",
      "| 3456 |              | 福岡支店   |            |\n",
      "+------+--------------+------------+------------+\n",
      "| 5678 |              | 大阪支店   |            |\n",
      "+------+--------------+------------+------------+\n",
      "| 9012 |           01 | 名古屋支店 | 営業課     |\n",
      "+------+--------------+------------+------------+\n"
     ]
    }
   ],
   "source": [
    "grouped.first()\n",
    "print(tabulate(grouped.first(), tablefmt='grid', headers=grouped.first().columns, showindex=True))\n"
   ]
  },
  {
   "cell_type": "code",
   "execution_count": 48,
   "metadata": {},
   "outputs": [
    {
     "data": {
      "text/html": [
       "<div>\n",
       "<style scoped>\n",
       "    .dataframe tbody tr th:only-of-type {\n",
       "        vertical-align: middle;\n",
       "    }\n",
       "\n",
       "    .dataframe tbody tr th {\n",
       "        vertical-align: top;\n",
       "    }\n",
       "\n",
       "    .dataframe thead th {\n",
       "        text-align: right;\n",
       "    }\n",
       "</style>\n",
       "<table border=\"1\" class=\"dataframe\">\n",
       "  <thead>\n",
       "    <tr style=\"text-align: right;\">\n",
       "      <th></th>\n",
       "      <th>課Grコード</th>\n",
       "      <th>部店名称</th>\n",
       "      <th>課Gr名称</th>\n",
       "    </tr>\n",
       "    <tr>\n",
       "      <th>部店コード</th>\n",
       "      <th></th>\n",
       "      <th></th>\n",
       "      <th></th>\n",
       "    </tr>\n",
       "  </thead>\n",
       "  <tbody>\n",
       "    <tr>\n",
       "      <th>1234</th>\n",
       "      <td>01</td>\n",
       "      <td>東京支店</td>\n",
       "      <td>営業課</td>\n",
       "    </tr>\n",
       "    <tr>\n",
       "      <th>3456</th>\n",
       "      <td>None</td>\n",
       "      <td>福岡支店</td>\n",
       "      <td>None</td>\n",
       "    </tr>\n",
       "    <tr>\n",
       "      <th>5678</th>\n",
       "      <td>None</td>\n",
       "      <td>大阪支店</td>\n",
       "      <td>None</td>\n",
       "    </tr>\n",
       "    <tr>\n",
       "      <th>9012</th>\n",
       "      <td>02</td>\n",
       "      <td>名古屋支店</td>\n",
       "      <td>管理課</td>\n",
       "    </tr>\n",
       "  </tbody>\n",
       "</table>\n",
       "</div>"
      ],
      "text/plain": [
       "      課Grコード   部店名称 課Gr名称\n",
       "部店コード                    \n",
       "1234      01   東京支店   営業課\n",
       "3456    None   福岡支店  None\n",
       "5678    None   大阪支店  None\n",
       "9012      02  名古屋支店   管理課"
      ]
     },
     "execution_count": 48,
     "metadata": {},
     "output_type": "execute_result"
    }
   ],
   "source": [
    "grouped.last()"
   ]
  },
  {
   "cell_type": "code",
   "execution_count": 49,
   "metadata": {},
   "outputs": [
    {
     "data": {
      "text/plain": [
       "{'1234': [0, 1], '3456': [5], '5678': [2], '9012': [3, 4]}"
      ]
     },
     "execution_count": 49,
     "metadata": {},
     "output_type": "execute_result"
    }
   ],
   "source": [
    "grouped.groups"
   ]
  },
  {
   "cell_type": "code",
   "execution_count": null,
   "metadata": {},
   "outputs": [],
   "source": []
  }
 ],
 "metadata": {
  "language_info": {
   "name": "python"
  }
 },
 "nbformat": 4,
 "nbformat_minor": 2
}
