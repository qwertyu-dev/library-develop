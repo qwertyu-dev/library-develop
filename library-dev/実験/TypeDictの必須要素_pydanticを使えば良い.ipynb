{
 "cells": [
  {
   "cell_type": "markdown",
   "metadata": {},
   "source": [
    "# https://tech-blog.abeja.asia/entry/python-312-typing-202402?utm_source=pocket_saves"
   ]
  },
  {
   "cell_type": "code",
   "execution_count": 4,
   "metadata": {},
   "outputs": [],
   "source": [
    "from typing import (\n",
    "    NotRequired,\n",
    "    Required,\n",
    "    TypedDict,\n",
    ")\n"
   ]
  },
  {
   "cell_type": "code",
   "execution_count": 8,
   "metadata": {},
   "outputs": [
    {
     "data": {
      "text/plain": [
       "{'x': 1, 'y': 2}"
      ]
     },
     "metadata": {},
     "output_type": "display_data"
    },
    {
     "data": {
      "text/plain": [
       "{'x': 1}"
      ]
     },
     "metadata": {},
     "output_type": "display_data"
    }
   ],
   "source": [
    "class Test(TypedDict):\n",
    "    x: Required[int]\n",
    "    y: Required[int]\n",
    "    z: NotRequired[int]\n",
    "\n",
    "t1: Test = {\n",
    "    'x': 1,\n",
    "    'y': 2,\n",
    "}\n",
    "\n",
    "# 本来、エラーとなるはず\n",
    "t2: Test = {\n",
    "    'x': 1,\n",
    "}\n",
    "display(t1)\n",
    "display(t2)"
   ]
  }
 ],
 "metadata": {
  "kernelspec": {
   "display_name": ".venv",
   "language": "python",
   "name": "python3"
  },
  "language_info": {
   "codemirror_mode": {
    "name": "ipython",
    "version": 3
   },
   "file_extension": ".py",
   "mimetype": "text/x-python",
   "name": "python",
   "nbconvert_exporter": "python",
   "pygments_lexer": "ipython3",
   "version": "3.11.6"
  }
 },
 "nbformat": 4,
 "nbformat_minor": 2
}
